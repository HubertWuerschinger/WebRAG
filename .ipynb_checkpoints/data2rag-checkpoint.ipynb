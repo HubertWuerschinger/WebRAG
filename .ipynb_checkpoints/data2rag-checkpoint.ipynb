{
 "cells": [
  {
   "cell_type": "code",
   "execution_count": 1,
   "id": "a7140fba",
   "metadata": {},
   "outputs": [],
   "source": [
    "import json\n",
    "from datetime import datetime\n",
    "\n",
    "def convert_to_rag_format(crawled_jobs, output_file=\"rag_data.jsonl\"):\n",
    "    \"\"\"\n",
    "    Konvertiert gecrawlte Jobs in das JSONL-Format für ein RAG-System.\n",
    "\n",
    "    Args:\n",
    "        crawled_jobs (list): Liste der gecrawlten Stellenangebote.\n",
    "        output_file (str): Dateiname für die JSONL-Ausgabe.\n",
    "    \"\"\"\n",
    "    rag_data = []\n",
    "\n",
    "    for job in crawled_jobs:\n",
    "        # Titel und URL aus dem Job übernehmen\n",
    "        title = job.get(\"title\", \"Unbekannter Titel\")\n",
    "        url = job.get(\"url\", \"Keine URL\")\n",
    "        description = job.get(\"description\", \"Keine Beschreibung\")\n",
    "        \n",
    "        # Eintrag für RAG-System erstellen\n",
    "        entry = {\n",
    "            \"prompt\": f\"Was enthält die Seite '{title}'?\",\n",
    "            \"completion\": description,\n",
    "            \"meta\": {\n",
    "                \"title\": title,\n",
    "                \"url\": url,\n",
    "                \"timestamp\": datetime.utcnow().isoformat()\n",
    "            }\n",
    "        }\n",
    "        rag_data.append(entry)\n",
    "\n",
    "    # Daten in JSONL-Datei speichern\n",
    "    with open(output_file, \"w\", encoding=\"utf-8\") as file:\n",
    "        for entry in rag_data:\n",
    "            file.write(json.dumps(entry, ensure_ascii=False) + \"\\n\")\n",
    "\n",
    "    print(f\"Daten erfolgreich in {output_file} gespeichert.\")\n"
   ]
  },
  {
   "cell_type": "code",
   "execution_count": 5,
   "id": "f8e6af8a",
   "metadata": {},
   "outputs": [
    {
     "name": "stdout",
     "output_type": "stream",
     "text": [
      "Reparierte Datei wurde in fixed_jobs_data.json gespeichert.\n"
     ]
    }
   ],
   "source": [
    "input_file = \"jobs_data.json\"\n",
    "output_file = \"fixed_jobs_data.json\"\n",
    "\n",
    "try:\n",
    "    with open(input_file, \"r\", encoding=\"utf-8\") as file:\n",
    "        raw_data = file.read()\n",
    "\n",
    "    # Ersetze einfache Anführungszeichen durch doppelte\n",
    "    fixed_data = raw_data.replace(\"'\", '\"')\n",
    "\n",
    "    # Reparierte Datei speichern\n",
    "    with open(output_file, \"w\", encoding=\"utf-8\") as file:\n",
    "        file.write(fixed_data)\n",
    "\n",
    "    print(f\"Reparierte Datei wurde in {output_file} gespeichert.\")\n",
    "except Exception as e:\n",
    "    print(f\"Fehler bei der Reparatur: {e}\")\n"
   ]
  },
  {
   "cell_type": "code",
   "execution_count": 7,
   "id": "45c0a940",
   "metadata": {},
   "outputs": [
    {
     "name": "stdout",
     "output_type": "stream",
     "text": [
      "Reparierte Datei erfolgreich gespeichert unter: repaired_jobs_data.json\n"
     ]
    }
   ],
   "source": [
    "input_file = \"jobs_data.json\"\n",
    "output_file = \"repaired_jobs_data.json\"\n",
    "\n",
    "try:\n",
    "    repaired_data = []\n",
    "    current_object = {}\n",
    "    \n",
    "    with open(input_file, \"r\", encoding=\"utf-8\") as file:\n",
    "        for line in file:\n",
    "            line = line.strip()\n",
    "            if line.startswith(\"{\"):\n",
    "                # Start eines neuen Objekts\n",
    "                current_object = {}\n",
    "            elif line.startswith(\"}\"):\n",
    "                # Ende eines Objekts -> Objekt speichern\n",
    "                repaired_data.append(current_object)\n",
    "            else:\n",
    "                # Versuche Schlüssel-Wert-Paare zu erkennen\n",
    "                if \":\" in line:\n",
    "                    key, value = line.split(\":\", 1)\n",
    "                    key = key.strip().strip('\"')  # Entfernt unnötige Leerzeichen/Anführungszeichen\n",
    "                    value = value.strip().strip(',').strip('\"')  # Entfernt Komma/Anführungszeichen\n",
    "                    current_object[key] = value\n",
    "    \n",
    "    # Reparierte Daten als gültige JSON-Liste speichern\n",
    "    with open(output_file, \"w\", encoding=\"utf-8\") as file:\n",
    "        json.dump(repaired_data, file, ensure_ascii=False, indent=4)\n",
    "\n",
    "    print(f\"Reparierte Datei erfolgreich gespeichert unter: {output_file}\")\n",
    "except Exception as e:\n",
    "    print(f\"Fehler bei der Reparatur: {e}\")\n"
   ]
  },
  {
   "cell_type": "code",
   "execution_count": 8,
   "id": "37266a60",
   "metadata": {},
   "outputs": [
    {
     "name": "stdout",
     "output_type": "stream",
     "text": [
      "72 Jobs erfolgreich geladen.\n"
     ]
    }
   ],
   "source": [
    "import json\n",
    "\n",
    "repaired_file = \"repaired_jobs_data.json\"\n",
    "\n",
    "with open(repaired_file, \"r\", encoding=\"utf-8\") as file:\n",
    "    crawled_jobs = json.load(file)\n",
    "\n",
    "print(f\"{len(crawled_jobs)} Jobs erfolgreich geladen.\")\n"
   ]
  },
  {
   "cell_type": "code",
   "execution_count": 9,
   "id": "9806f0fc",
   "metadata": {},
   "outputs": [
    {
     "name": "stdout",
     "output_type": "stream",
     "text": [
      "Daten erfolgreich in rag_data.jsonl gespeichert.\n",
      "Daten erfolgreich in rag_data.jsonl konvertiert.\n"
     ]
    }
   ],
   "source": [
    "output_file = \"rag_data.jsonl\"\n",
    "convert_to_rag_format(crawled_jobs, output_file=output_file)\n",
    "print(f\"Daten erfolgreich in {output_file} konvertiert.\")\n"
   ]
  },
  {
   "cell_type": "code",
   "execution_count": 10,
   "id": "ebf12f28",
   "metadata": {},
   "outputs": [
    {
     "name": "stdout",
     "output_type": "stream",
     "text": [
      "                                               title  \\\n",
      "0                          Technical Trainer (m/w/d)   \n",
      "1                        Cloud Engineer (AWS) Senior   \n",
      "2                      Senior Cloud Engineer (Azure)   \n",
      "3                           Cloud Engineer (AWS) Mid   \n",
      "4  Werkstudent (m/w/d) Sustainability / Corporate...   \n",
      "\n",
      "                         company  \\\n",
      "0   Körber Pharma Packaging GmbH   \n",
      "1  Körber Porto, Unipessoal Lda.   \n",
      "2  Körber Porto, Unipessoal Lda.   \n",
      "3  Körber Porto, Unipessoal Lda.   \n",
      "4                      Körber AG   \n",
      "\n",
      "                                            location  \\\n",
      "0  Schloß Holte-Stukenbrock, Nordrhein-Westfalen, DE   \n",
      "1                                          Porto, PT   \n",
      "2                                          Porto, PT   \n",
      "3                                          Porto, PT   \n",
      "4                                    Hamburg, HH, DE   \n",
      "\n",
      "                                                 url  \\\n",
      "0  https://jobs.koerber.com/pharma/job/Schlo%C3%9...   \n",
      "1  https://jobs.koerber.com/pharma/job/Porto-Clou...   \n",
      "2  https://jobs.koerber.com/pharma/job/Porto-Seni...   \n",
      "3  https://jobs.koerber.com/pharma/job/Porto-Clou...   \n",
      "4  https://jobs.koerber.com/job/Hamburg-Werkstude...   \n",
      "\n",
      "                                         description  \n",
      "0  Ihr Profil:\\nSie haben eine abgeschlossene Aus...  \n",
      "1  Your role in our team:\\nBS or MS in Computer S...  \n",
      "2  Your role in our team:\\nBe part of a diverse t...  \n",
      "3  Your role in our team:\\nBS or MS in Computer S...  \n",
      "4                                      Ihr Profil:\\n  \n"
     ]
    }
   ],
   "source": [
    "import pandas as pd\n",
    "\n",
    "df = pd.DataFrame(crawled_jobs)\n",
    "print(df.head())\n"
   ]
  },
  {
   "cell_type": "code",
   "execution_count": null,
   "id": "3a6d9c00",
   "metadata": {},
   "outputs": [],
   "source": []
  }
 ],
 "metadata": {
  "kernelspec": {
   "display_name": "Python 3 (ipykernel)",
   "language": "python",
   "name": "python3"
  },
  "language_info": {
   "codemirror_mode": {
    "name": "ipython",
    "version": 3
   },
   "file_extension": ".py",
   "mimetype": "text/x-python",
   "name": "python",
   "nbconvert_exporter": "python",
   "pygments_lexer": "ipython3",
   "version": "3.8.5"
  }
 },
 "nbformat": 4,
 "nbformat_minor": 5
}
